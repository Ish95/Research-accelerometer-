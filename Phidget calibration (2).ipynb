{
 "cells": [
  {
   "cell_type": "code",
   "execution_count": null,
   "metadata": {},
   "outputs": [],
   "source": [
    "#Declerations of global variables \n",
    "\n",
    "from Phidget22.Phidget import*\n",
    "\n",
    "from Phidget22.Devices.Accelerometer import*\n",
    "import time\n",
    "import numpy as np\n",
    "import matplotlib.pyplot as plt\n",
    "import math\n",
    "\n",
    "x=[]  #temporary vector to fill in phidget input for acceleration\n",
    "t=[]  #temporary vector to fill in phidget input for time \n",
    "corrected_acc=[]  #corrected vector removing duplicate acceleration\n",
    "corrected_dt=[]  #corected vector removing duplicate times\n",
    "amag=[] #this stores the magnitude values of the acceleration\n",
    "\n",
    "run_time=5  #runtime for experiment"
   ]
  },
  {
   "cell_type": "code",
   "execution_count": 884,
   "metadata": {},
   "outputs": [],
   "source": [
    "#acceleration change event\n",
    "def onaccelerationchange(self,acceleration,timestamp):\n",
    "    global x\n",
    "    global t\n",
    "    for i in acceleration:\n",
    "        x.append(acceleration)\n",
    "        t.append(timestamp)\n",
    "        "
   ]
  },
  {
   "cell_type": "code",
   "execution_count": 885,
   "metadata": {},
   "outputs": [],
   "source": [
    "#channel opener and closer \n",
    "def main():    \n",
    "    ch= Accelerometer()\n",
    "    ch.setDeviceSerialNumber(372295)\n",
    "    ch.setOnAccelerationChangeHandler(onaccelerationchange)\n",
    "    \n",
    "    ch.openWaitForAttachment(1000)\n",
    "    time.sleep(run_time)\n",
    "    ch.close()\n",
    "    "
   ]
  },
  {
   "cell_type": "code",
   "execution_count": 886,
   "metadata": {},
   "outputs": [],
   "source": [
    "def gravity_correction(inarr):\n",
    "    global acceleration_array\n",
    "    d1,d2=np.shape(inarr)\n",
    "    ax=np.reshape(inarr[:,0],(d1,1)) #this limits the reshaping of the arrays exclusively to the time and size of array\n",
    "                                        #needs to have feature of extracting the size for (12) cause 1 is always going to bethe same\n",
    "    ay=np.reshape(inarr[:,1],(d1,1))    #tuple unpacking could be used \n",
    "    az=np.reshape(inarr[:,2]-1,(d1,1))\n",
    "    dt=np.reshape(inarr[:,3],(d1,1))\n",
    "    acceleration_array=np.hstack((ax,ay,az,dt))\n",
    "    "
   ]
  },
  {
   "cell_type": "code",
   "execution_count": 887,
   "metadata": {},
   "outputs": [],
   "source": [
    "#calcalates the magnitude of the accleration using the ax, ay and az values \n",
    "def acceleration_magnitude(inarr):\n",
    "    \n",
    "#input will be the corrected array after subtracting -1 from acceleration \n",
    "#need to slice open array and make room for new column \n",
    "    axx=inarr[:,0]\n",
    "    ayy=inarr[:,1]\n",
    "    azz=inarr[:,2]\n",
    "    time=inarr[:,3]\n",
    "    for i in range(0,len(axx)):\n",
    "        d=(axx[i]**2)+(ayy[i]**2)+(azz[i]**2)\n",
    "        m=math.sqrt(d)\n",
    "        amag.append(m)\n",
    "    "
   ]
  },
  {
   "cell_type": "code",
   "execution_count": 888,
   "metadata": {},
   "outputs": [],
   "source": [
    "#array manipulation of acceleration data\n",
    "def list_to_arr():\n",
    "    \n",
    "    global finarr\n",
    "    acc=Vector_correction(x,t)\n",
    "    accarr=np.array(acc.acceleration_corr())\n",
    "    dtarr=np.array(acc.timestamp_corr())\n",
    "    finarr=np.column_stack((accarr,dtarr)) #combines both the arrays into one\n",
    "    print(finarr)\n",
    "\n",
    "# this should have the option of putting this numpy arr into a csv file"
   ]
  },
  {
   "cell_type": "code",
   "execution_count": 889,
   "metadata": {},
   "outputs": [],
   "source": [
    "#function to create plot for testing \n",
    "#plots will have x, y , z accelerations \n",
    "\n",
    "def plot_acceleration(inputarr):\n",
    "    a0=inputarr[:,0]\n",
    "    a1=inputarr[:,1]\n",
    "    a2=inputarr[:,2]\n",
    "    t=inputarr[:,3]\n",
    "    plt.figure(figsize=(12,20))\n",
    "    plt.subplot(411)    \n",
    "    plt.plot(t,a2,'b', label='z axis acce')\n",
    "    plt.legend()\n",
    "\n",
    "    plt.subplot(412)\n",
    "    plt.plot(t,a0,'y', label='x axis acce')\n",
    "    plt.legend()\n",
    "    plt.subplot(413)\n",
    "    plt.plot(t,a1,'g', label='y axis acce')\n",
    "    plt.legend()\n",
    "    plt.subplot(414)\n",
    "    plt.plot(t,a2,'b', label='z axis acce')\n",
    "    plt.plot(t,a0,'y', label='x axis acce')\n",
    "    plt.plot(t,a1,'g', label='y axis acce')\n",
    "    plt.plot(t,amag,'r',label='Acceleration magnitude')\n",
    "    plt.legend()\n",
    "    plt.show()"
   ]
  },
  {
   "cell_type": "code",
   "execution_count": null,
   "metadata": {},
   "outputs": [],
   "source": []
  },
  {
   "cell_type": "code",
   "execution_count": null,
   "metadata": {},
   "outputs": [],
   "source": [
    "\n"
   ]
  },
  {
   "cell_type": "code",
   "execution_count": 890,
   "metadata": {},
   "outputs": [],
   "source": [
    "#creating a class to have accelearation and time corrected with array createad \n",
    "class Vector_correction:\n",
    "    \n",
    "    def __init__(self,acc,dt):\n",
    "        self.acc=acc\n",
    "        self.dt=dt\n",
    "        \n",
    "        \n",
    "    def acceleration_corr(self):\n",
    "        global corrected_acc\n",
    "        # Also possible to use list(set())\n",
    "        \n",
    "        for a in self.acc:\n",
    "            if a not in corrected_acc:\n",
    "                corrected_acc.append(a)\n",
    "                \n",
    "        return corrected_acc\n",
    "    \n",
    "    def timestamp_corr(self):\n",
    "        \n",
    "        global corrected_dt\n",
    "    \n",
    "        for b in self.dt:\n",
    "            if b not in corrected_dt:\n",
    "                corrected_dt.append(b)\n",
    "               \n",
    "        return corrected_dt\n"
   ]
  },
  {
   "cell_type": "code",
   "execution_count": null,
   "metadata": {},
   "outputs": [],
   "source": [
    "try:\n",
    "    main()\n",
    "    onaccelerationchange()\n",
    "finally: \n",
    "    list_to_arr()\n",
    "    gravity_correction(finarr)\n",
    "    acceleration_magnitude(acceleration_array)\n",
    "    plot_acceleration(acceleration_array)"
   ]
  },
  {
   "cell_type": "code",
   "execution_count": null,
   "metadata": {},
   "outputs": [],
   "source": [
    "#converts final result into a csv file \n",
    "csvfile=np.savetxt('Accelerationdata.csv',finarr,delimiter=',',header='Ax,Ay,Az,Time')"
   ]
  },
  {
   "cell_type": "code",
   "execution_count": null,
   "metadata": {},
   "outputs": [],
   "source": []
  },
  {
   "cell_type": "code",
   "execution_count": null,
   "metadata": {},
   "outputs": [],
   "source": []
  }
 ],
 "metadata": {
  "kernelspec": {
   "display_name": "Python 3",
   "language": "python",
   "name": "python3"
  },
  "language_info": {
   "codemirror_mode": {
    "name": "ipython",
    "version": 3
   },
   "file_extension": ".py",
   "mimetype": "text/x-python",
   "name": "python",
   "nbconvert_exporter": "python",
   "pygments_lexer": "ipython3",
   "version": "3.7.3"
  }
 },
 "nbformat": 4,
 "nbformat_minor": 4
}
